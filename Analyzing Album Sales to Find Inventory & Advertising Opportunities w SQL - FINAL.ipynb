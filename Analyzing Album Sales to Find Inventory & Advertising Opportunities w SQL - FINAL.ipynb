{
 "cells": [
  {
   "cell_type": "markdown",
   "metadata": {},
   "source": [
    "#  Analyzing Album Sales to Find Inventory & Advertising Opportunities w SQL"
   ]
  },
  {
   "cell_type": "markdown",
   "metadata": {},
   "source": [
    "Our record store has a database of sales, customer, and employee info that we rarely look at. We want to use our sales database to see if we can answer some questions:\n",
    "\n",
    "- What genres should we order the most of?\n",
    "- Which employees are performing well?\n",
    "- Which countries do people order from the most?\n",
    "- Should we buy more individual tracks or full albums?"
   ]
  },
  {
   "cell_type": "markdown",
   "metadata": {},
   "source": [
    "## Set Up Connection & Look at Database Tables\n",
    "\n",
    "Before we get started, we need to take care of some basics like loading dependencies, testing our connection, and taking a look at our database to see what we have to work with. \n",
    "\n",
    "Let's do that now. \n"
   ]
  },
  {
   "cell_type": "code",
   "execution_count": 1,
   "metadata": {},
   "outputs": [],
   "source": [
    "# load SQL for queries, pandas for dataframes, and matplotlib for charts\n",
    "import sqlite3 as sql\n",
    "import pandas as pd\n",
    "import numpy as np\n",
    "import matplotlib.pyplot as plt\n",
    "#make plots show in notebook\n",
    "%matplotlib inline"
   ]
  },
  {
   "cell_type": "code",
   "execution_count": 2,
   "metadata": {},
   "outputs": [
    {
     "name": "stdout",
     "output_type": "stream",
     "text": [
      "[('Luís Gonçalves',), ('Leonie Köhler',), ('François Tremblay',), ('Bjørn Hansen',), ('František Wichterlová',), ('Helena Holý',), ('Astrid Gruber',), ('Daan Peeters',), ('Kara Nielsen',), ('Eduardo Martins',)]\n"
     ]
    }
   ],
   "source": [
    "# open connection to database and test a query\n",
    "conn = sql.connect(\"Data/chinook.db\")\n",
    "query = 'SELECT first_name || \" \" || last_name name FROM customer LIMIT 10'\n",
    "result = conn.execute(query).fetchall()\n",
    "conn.close()\n",
    "\n",
    "print(result)"
   ]
  },
  {
   "cell_type": "markdown",
   "metadata": {},
   "source": [
    "**Success.** Our query returned 10 customers so our connection to the database is working. Before we look further at our data, let's write a couple functions to make it easy to safety query the database and run commands. While we're at it, we'll make a function to show which tables we have data for. "
   ]
  },
  {
   "cell_type": "code",
   "execution_count": 3,
   "metadata": {},
   "outputs": [],
   "source": [
    "# function to query database safely\n",
    "def run_query(q):\n",
    "    #open connection with context manager to ensure its not left open\n",
    "    with sql.connect('Data/chinook.db') as conn:\n",
    "        #return query as a pandas dataframe instead of text output\n",
    "        result = pd.read_sql(q, conn)\n",
    "        return result"
   ]
  },
  {
   "cell_type": "code",
   "execution_count": 4,
   "metadata": {},
   "outputs": [],
   "source": [
    "# function to run commands on database that dont require a query (create view, etc)\n",
    "def run_command(c):\n",
    "    with sql.connect('Data/chinook.db') as conn:\n",
    "        #auto commit any changes\n",
    "        conn.isolation_level = None\n",
    "        conn.execute(c)"
   ]
  },
  {
   "cell_type": "code",
   "execution_count": 5,
   "metadata": {},
   "outputs": [],
   "source": [
    "# function to show all tables and views in the database currently\n",
    "def show_tables():\n",
    "    query = 'SELECT name, type FROM sqlite_master WHERE type IN (\"table\",\"view\");'\n",
    "    return run_query(query)"
   ]
  },
  {
   "cell_type": "code",
   "execution_count": 6,
   "metadata": {},
   "outputs": [
    {
     "name": "stdout",
     "output_type": "stream",
     "text": [
      "                  name   type\n",
      "0                album  table\n",
      "1               artist  table\n",
      "2             customer  table\n",
      "3             employee  table\n",
      "4                genre  table\n",
      "5              invoice  table\n",
      "6         invoice_line  table\n",
      "7           media_type  table\n",
      "8             playlist  table\n",
      "9       playlist_track  table\n",
      "10               track  table\n",
      "11  invoice_track_list   view\n",
      "12    album_track_list   view\n",
      "13          full_album   view\n"
     ]
    }
   ],
   "source": [
    "# using our function to see all our database tables\n",
    "data = show_tables()\n",
    "print(data)"
   ]
  },
  {
   "cell_type": "markdown",
   "metadata": {},
   "source": [
    "Now we have our basic setup and we know what kind of data we have in the database. Let's start answering the questions we have. We will chart results where possible to make it easier to infer answers.\n",
    "\n",
    "## Question 1: What albums should we order?\n",
    "\n",
    "4 new albums released this week and we need to decide which ones to order. \n",
    "\n",
    "**Artist Name\t\\ Genre**\n",
    "- Regal \\ Hip-Hop\n",
    "- Red Tone \\ Punk\n",
    "- Meteor and the Girls \\ Pop\n",
    "- Slim Jim Bites \\ Blues\n",
    "\n",
    "Let's analyze our sales data by genre and see which genres are popular."
   ]
  },
  {
   "cell_type": "code",
   "execution_count": 7,
   "metadata": {},
   "outputs": [
    {
     "name": "stdout",
     "output_type": "stream",
     "text": [
      "                 genre  quantity  percentage\n",
      "0                 Rock      2635    0.553921\n",
      "1                Metal       619    0.130124\n",
      "2   Alternative & Punk       492    0.103427\n",
      "3                Latin       167    0.035106\n",
      "4             R&B/Soul       159    0.033424\n",
      "5                Blues       124    0.026067\n",
      "6                 Jazz       121    0.025436\n",
      "7          Alternative       117    0.024595\n",
      "8       Easy Listening        74    0.015556\n",
      "9                  Pop        63    0.013244\n",
      "10   Electronica/Dance        55    0.011562\n",
      "11           Classical        47    0.009880\n",
      "12              Reggae        35    0.007358\n",
      "13         Hip Hop/Rap        33    0.006937\n",
      "14         Heavy Metal         8    0.001682\n",
      "15          Soundtrack         5    0.001051\n",
      "16            TV Shows         2    0.000420\n",
      "17               Drama         1    0.000210\n",
      "18               World         0    0.000000\n",
      "19     Science Fiction         0    0.000000\n",
      "20    Sci Fi & Fantasy         0    0.000000\n",
      "21       Rock And Roll         0    0.000000\n",
      "22               Opera         0    0.000000\n",
      "23              Comedy         0    0.000000\n",
      "24          Bossa Nova         0    0.000000\n"
     ]
    }
   ],
   "source": [
    "# SELECT genres and order by quantity of sales \n",
    "genres_sold = \"\"\"\n",
    "SELECT g.name genre, COUNT(il.quantity) quantity, CAST(COUNT(il.quantity) as float)/CAST((SELECT SUM(quantity) FROM invoice_line) as float) percentage FROM track t \n",
    "LEFT JOIN genre g ON g.genre_id = t.genre_id \n",
    "LEFT JOIN invoice_line il ON il.track_id = t.track_id \n",
    "GROUP BY genre ORDER BY quantity DESC \n",
    "\"\"\"\n",
    "# display the results\n",
    "genres_analysis = run_query(genres_sold)\n",
    "print(genres_analysis)"
   ]
  },
  {
   "cell_type": "code",
   "execution_count": 8,
   "metadata": {},
   "outputs": [
    {
     "data": {
      "text/plain": [
       "Text(0.5, 1.0, 'Albums Sales by Genre')"
      ]
     },
     "execution_count": 8,
     "metadata": {},
     "output_type": "execute_result"
    },
    {
     "data": {
      "image/png": "[encoded data removed]",
      "text/plain": [
       "<Figure size 432x288 with 1 Axes>"
      ]
     },
     "metadata": {
      "needs_background": "light"
     },
     "output_type": "display_data"
    }
   ],
   "source": [
    "# plot results on a bar chart\n",
    "genre_plot = genres_analysis['quantity'].plot.bar().set_xticklabels(genres_analysis['genre'])\n",
    "plt.title('Albums Sales by Genre')\n"
   ]
  },
  {
   "cell_type": "markdown",
   "metadata": {},
   "source": [
    "### Answer 1:\n",
    "It looks like Rock, Metal, and Punk are the best selling genres. Our list of choices included albums in the punk, blues, pop, and hip-hop genres. Based on this data we'd suggest:\n",
    "\n",
    "- Ordering *Red Tone*, Punk, as a first priority. \n",
    "- *Slim Jim Bites*, Blues, as the next priority.\n",
    "- *Meteor and the Girls*, Pop, as the last priority if we want to ensure store variety. \n",
    "\n",
    "The hip-hop album sales aren't doing great comparatively so we won't suggest ordering that one. "
   ]
  },
  {
   "cell_type": "markdown",
   "metadata": {},
   "source": [
    "## Question 2: Which Employees are Performing Well?\n",
    "\n",
    "To answer this, we'll write a query that finds the total dollar amount of sales assigned to each sales support agent within the company. We'll include attributes for that employee that may be relevant to the analysis like how long the employee has worked for us."
   ]
  },
  {
   "cell_type": "code",
   "execution_count": 9,
   "metadata": {},
   "outputs": [
    {
     "name": "stdout",
     "output_type": "stream",
     "text": [
      "               name            hire_date        reports_to  total_sales\n",
      "0     Nancy Edwards  2016-05-01 00:00:00      Andrew Adams          NaN\n",
      "1      Andrew Adams  2016-08-14 00:00:00              None          NaN\n",
      "2  Michael Mitchell  2016-10-17 00:00:00      Andrew Adams          NaN\n",
      "3       Robert King  2017-01-02 00:00:00  Michael Mitchell          NaN\n",
      "4    Laura Callahan  2017-03-04 00:00:00  Michael Mitchell          NaN\n",
      "5      Jane Peacock  2017-04-01 00:00:00     Nancy Edwards      1731.51\n",
      "6     Margaret Park  2017-05-03 00:00:00     Nancy Edwards      1584.00\n",
      "7     Steve Johnson  2017-10-17 00:00:00     Nancy Edwards      1393.92\n"
     ]
    }
   ],
   "source": [
    "# SELECT employees, their start date, their superior, and the total amount of customer sales they supported\n",
    "total_sales_query = \"\"\"\n",
    "SELECT \n",
    "    e1.first_name || \" \" || e1.last_name name, \n",
    "    e1.hire_date, \n",
    "    e2.first_name || \" \" || e2.last_name reports_to, \n",
    "    SUM(i.total) total_sales \n",
    "FROM employee e1\n",
    "LEFT JOIN customer c ON e1.employee_id = c.support_rep_id\n",
    "LEFT JOIN invoice i ON c.customer_id = i.customer_id\n",
    "LEFT JOIN employee e2 ON e1.reports_to=e2.employee_id\n",
    "GROUP BY name\n",
    "ORDER BY e1.hire_date\n",
    "\"\"\"\n",
    "# display the results\n",
    "sales_analysis = run_query(total_sales_query)\n",
    "print(sales_analysis)"
   ]
  },
  {
   "cell_type": "markdown",
   "metadata": {},
   "source": [
    "It looks like only 3 employees are involved in sales. They all report to Nancy Edwards. To get a better idea of performance lets chart their sales relative to their hire date."
   ]
  },
  {
   "cell_type": "code",
   "execution_count": 10,
   "metadata": {},
   "outputs": [
    {
     "data": {
      "image/png": "[encoded data removed]",
      "text/plain": [
       "<Figure size 432x288 with 1 Axes>"
      ]
     },
     "metadata": {
      "needs_background": "light"
     },
     "output_type": "display_data"
    }
   ],
   "source": [
    "#get last 3 rows of sales_analysis only (the ones with the sales values)\n",
    "SAS = sales_analysis.iloc[5:8,:]\n",
    "#reset the index on our table slice so loops will work as expected\n",
    "SAS = SAS.reset_index()\n",
    "\n",
    "#set x,y coords (for labels)\n",
    "x_coords = SAS['total_sales']\n",
    "y_coords = SAS['hire_date']\n",
    "labels = SAS['name']\n",
    "\n",
    "# for counter i, loop through labels and plot corresponding x,y on a scatter plot\n",
    "for i, name in enumerate(labels):\n",
    "    x = x_coords[i]\n",
    "    y = y_coords[i]\n",
    "    plt.scatter(x, y)\n",
    "    # label dots with a slight horizontal offset\n",
    "    plt.text(x+5, y, name, fontsize=10)\n",
    "    plt.title('Employee Sales by Hire Date')\n",
    "plt.show()"
   ]
  },
  {
   "cell_type": "markdown",
   "metadata": {},
   "source": [
    "### Answer 2:\n",
    "The newest employee seems to have sold well considering their time with the company. It's difficult to judge much more with so few data points.\n",
    "\n",
    "## Question 3: What countries have our best customers?\n",
    "\n",
    "We want to calculate some metrics for each country to get a picture of how our customers are distributed. For each country, we'll find:\n",
    "\n",
    "- Total number of customers\n",
    "- Total value of sales\n",
    "- Average value of sales per customer\n",
    "- Average order value"
   ]
  },
  {
   "cell_type": "code",
   "execution_count": 11,
   "metadata": {},
   "outputs": [
    {
     "name": "stdout",
     "output_type": "stream",
     "text": [
      "           country   total  average_sales_per_customer  one_customer\n",
      "0        Argentina   39.60                   39.600000             1\n",
      "1        Australia   81.18                   81.180000             1\n",
      "2          Austria   69.30                   69.300000             1\n",
      "3          Belgium   60.39                   60.390000             1\n",
      "4           Brazil  108.90                   85.536000             0\n",
      "5           Canada   99.99                   66.948750             0\n",
      "6            Chile   97.02                   97.020000             1\n",
      "7   Czech Republic  144.54                  136.620000             0\n",
      "8          Denmark   37.62                   37.620000             1\n",
      "9          Finland   79.20                   79.200000             1\n",
      "10          France   79.20                   77.814000             0\n",
      "11         Germany   82.17                   83.655000             0\n",
      "12         Hungary   78.21                   78.210000             1\n",
      "13           India  111.87                   91.575000             0\n",
      "14         Ireland  114.84                  114.840000             1\n",
      "15           Italy   50.49                   50.490000             1\n",
      "16     Netherlands   65.34                   65.340000             1\n",
      "17          Norway   72.27                   72.270000             1\n",
      "18          Poland   76.23                   76.230000             1\n",
      "19        Portugal  102.96                   92.565000             0\n",
      "20           Spain   98.01                   98.010000             1\n",
      "21          Sweden   75.24                   75.240000             1\n",
      "22             USA   74.25                   80.037692             0\n",
      "23  United Kingdom   68.31                   81.840000             0\n"
     ]
    }
   ],
   "source": [
    "## Get the total amount of sales per customer by country\n",
    "# Let's also add a one_customer column to indicate if the country only has 1 customer\n",
    "total_per_customer_table = \"\"\"\n",
    "WITH total_per_customer AS \n",
    "(SELECT c.country, c.last_name, SUM(i.total) total FROM invoice i\n",
    "LEFT JOIN customer c ON c.customer_id=i.customer_id\n",
    "GROUP BY c.customer_id\n",
    "ORDER BY c.country),\n",
    "avg_sales_by_country AS\n",
    "(SELECT \n",
    "    tpc.country,\n",
    "    tpc.total,\n",
    "    AVG(tpc.total) average_sales_per_customer, \n",
    "    CASE\n",
    "        WHEN COUNT(tpc.country) = 1 THEN 1\n",
    "        Else 0\n",
    "    END as one_customer\n",
    "FROM total_per_customer tpc\n",
    "GROUP BY tpc.country)\n",
    "\n",
    "SELECT * FROM avg_sales_by_country\n",
    "\"\"\"\n",
    "country_analysis = run_query(total_per_customer_table)\n",
    "print(country_analysis)"
   ]
  },
  {
   "cell_type": "markdown",
   "metadata": {},
   "source": [
    "Let's refine this result a little bit. We'll add all the countries with 1 customer into an 'Other' column. We will reuse the majorty of the query above with a few tweaks."
   ]
  },
  {
   "cell_type": "code",
   "execution_count": 12,
   "metadata": {},
   "outputs": [
    {
     "name": "stdout",
     "output_type": "stream",
     "text": [
      "  Countries_Other  total_customers  total_sales  average_sales_per_customer  \\\n",
      "0          Brazil                5       427.68                   85.536000   \n",
      "1          Canada                8       535.59                   66.948750   \n",
      "2  Czech Republic                2       273.24                  136.620000   \n",
      "3          France                5       389.07                   77.814000   \n",
      "4         Germany                4       334.62                   83.655000   \n",
      "5           India                2       183.15                   91.575000   \n",
      "6           Other               15      1094.94                   76.230000   \n",
      "7        Portugal                2       185.13                   92.565000   \n",
      "8             USA               13      1040.49                   80.037692   \n",
      "9  United Kingdom                3       245.52                   81.840000   \n",
      "\n",
      "   avg_order_value  \n",
      "0         7.011148  \n",
      "1         7.047237  \n",
      "2         9.108000  \n",
      "3         7.781400  \n",
      "4         8.161463  \n",
      "5         8.721429  \n",
      "6         7.448571  \n",
      "7         6.383793  \n",
      "8         7.942672  \n",
      "9         8.768571  \n"
     ]
    }
   ],
   "source": [
    "country_query = \"\"\"\n",
    "WITH total_per_customer AS \n",
    "(SELECT c.country, c.last_name, SUM(i.total) total FROM invoice i\n",
    "LEFT JOIN customer c ON c.customer_id=i.customer_id\n",
    "GROUP BY c.customer_id\n",
    "ORDER BY c.country),\n",
    "avg_sales_by_country AS\n",
    "(SELECT \n",
    "    tpc.country,\n",
    "    tpc.total,\n",
    "    AVG(tpc.total) average_sales_per_customer, \n",
    "    CASE\n",
    "        WHEN COUNT(tpc.country) = 1 THEN 1\n",
    "        Else 0\n",
    "    END as one_customer\n",
    "FROM total_per_customer tpc\n",
    "GROUP BY tpc.country)\n",
    "\n",
    "\n",
    "SELECT \n",
    "    CASE\n",
    "        WHEN asc.one_customer = 1 THEN 'Other'\n",
    "        Else c.country\n",
    "    END as Countries_Other,\n",
    "    COUNT(DISTINCT(c.customer_id)) total_customers,\n",
    "    SUM(i.total) total_sales, \n",
    "    asc.average_sales_per_customer,\n",
    "    AVG(i.total) avg_order_value\n",
    "FROM invoice i\n",
    "LEFT JOIN customer c ON c.customer_id=i.customer_id\n",
    "LEFT JOIN avg_sales_by_country asc ON asc.country=c.country\n",
    "GROUP BY Countries_Other\n",
    "\"\"\"\n",
    "\n",
    "country_analysis_other = run_query(country_query)\n",
    "print(country_analysis_other)"
   ]
  },
  {
   "cell_type": "markdown",
   "metadata": {},
   "source": [
    "Lastly we will re-order everything so that the 'Other' column is at the bottom. We'll copy our work from above again."
   ]
  },
  {
   "cell_type": "code",
   "execution_count": 13,
   "metadata": {},
   "outputs": [
    {
     "name": "stdout",
     "output_type": "stream",
     "text": [
      "     country_name  total_customers  total_sales  average_sales_per_customer  \\\n",
      "0          Brazil                5       427.68                   85.536000   \n",
      "1          Canada                8       535.59                   66.948750   \n",
      "2  Czech Republic                2       273.24                  136.620000   \n",
      "3          France                5       389.07                   77.814000   \n",
      "4         Germany                4       334.62                   83.655000   \n",
      "5           India                2       183.15                   91.575000   \n",
      "6        Portugal                2       185.13                   92.565000   \n",
      "7             USA               13      1040.49                   80.037692   \n",
      "8  United Kingdom                3       245.52                   81.840000   \n",
      "9           Other               15      1094.94                   76.230000   \n",
      "\n",
      "   avg_order_value  \n",
      "0         7.011148  \n",
      "1         7.047237  \n",
      "2         9.108000  \n",
      "3         7.781400  \n",
      "4         8.161463  \n",
      "5         8.721429  \n",
      "6         6.383793  \n",
      "7         7.942672  \n",
      "8         8.768571  \n",
      "9         7.448571  \n"
     ]
    }
   ],
   "source": [
    "country_query = \"\"\"\n",
    "WITH total_per_customer AS \n",
    "(SELECT c.country, c.last_name, SUM(i.total) total FROM invoice i\n",
    "LEFT JOIN customer c ON c.customer_id=i.customer_id\n",
    "GROUP BY c.customer_id\n",
    "ORDER BY c.country),\n",
    "avg_sales_by_country AS\n",
    "(SELECT \n",
    "    tpc.country,\n",
    "    tpc.total,\n",
    "    AVG(tpc.total) average_sales_per_customer, \n",
    "    CASE\n",
    "        WHEN COUNT(tpc.country) = 1 THEN 1\n",
    "        Else 0\n",
    "    END as one_customer\n",
    "FROM total_per_customer tpc\n",
    "GROUP BY tpc.country),\n",
    "combined_view AS\n",
    "(SELECT \n",
    "    CASE\n",
    "        WHEN asc.one_customer = 1 THEN 'Other'\n",
    "        Else c.country\n",
    "    END as country_name,\n",
    "    COUNT(DISTINCT(c.customer_id)) total_customers,\n",
    "    SUM(i.total) total_sales, \n",
    "    asc.average_sales_per_customer,\n",
    "    AVG(i.total) avg_order_value\n",
    "FROM invoice i\n",
    "LEFT JOIN customer c ON c.customer_id=i.customer_id\n",
    "LEFT JOIN avg_sales_by_country asc ON asc.country=c.country\n",
    "GROUP BY country_name)\n",
    "\n",
    "SELECT country_name, total_customers, total_sales, average_sales_per_customer, avg_order_value FROM \n",
    "( \n",
    "SELECT cv.*, \n",
    "    CASE\n",
    "        WHEN cv.country_name = 'Other' THEN 1\n",
    "        ELSE 0\n",
    "    END AS sort\n",
    "FROM combined_view cv\n",
    ")\n",
    "ORDER BY sort ASC\n",
    "\"\"\"\n",
    "\n",
    "country_analysis_other = run_query(country_query)\n",
    "print(country_analysis_other)"
   ]
  },
  {
   "cell_type": "markdown",
   "metadata": {},
   "source": [
    "With this much information, it's best to use a chart to fully digest the data. We have both *total_sales* and *average_sales_per_customer* to consider, so we'll use a scatter plot to see both."
   ]
  },
  {
   "cell_type": "code",
   "execution_count": 14,
   "metadata": {},
   "outputs": [
    {
     "data": {
      "image/png": "[encoded data removed]",
      "text/plain": [
       "<Figure size 432x288 with 1 Axes>"
      ]
     },
     "metadata": {
      "needs_background": "light"
     },
     "output_type": "display_data"
    }
   ],
   "source": [
    "#scatter plot total sales by average sales per customer, grouped by country\n",
    "labels = country_analysis_other['country_name']\n",
    "x_coords = country_analysis_other['total_sales']\n",
    "y_coords = country_analysis_other['average_sales_per_customer']\n",
    "\n",
    "for i, country in enumerate(labels):\n",
    "    x = x_coords[i]\n",
    "    y = y_coords[i]\n",
    "    plt.scatter(x, y)\n",
    "    #label the dots with a slight offset\n",
    "    plt.text(x+10, y-1, country, fontsize=10)\n",
    "    plt.xlabel('Total Sales')\n",
    "    plt.ylabel('Avg Sales per Customer')\n",
    "    plt.title('Sales by Country')\n",
    "plt.show()"
   ]
  },
  {
   "cell_type": "markdown",
   "metadata": {},
   "source": [
    "The USA and our catch-all 'Other' category lead in total sales. Canada is the second most-likely country to buy from us. \n",
    "\n",
    "Germany, Brazil, UK, and France are clustered around the average number of customers and sales\n",
    "\n",
    "\n",
    "The Czech Republic has only a few customers but a very high average per customer. It's hard to know if thats a trend or a fluke without a few more customers to compare. \n",
    "\n",
    "This above chart doesn't visualize **total sales** per country. Let's see how those compare."
   ]
  },
  {
   "cell_type": "code",
   "execution_count": 15,
   "metadata": {},
   "outputs": [
    {
     "data": {
      "image/png": "[encoded data removed]",
      "text/plain": [
       "<Figure size 432x288 with 1 Axes>"
      ]
     },
     "metadata": {
      "needs_background": "light"
     },
     "output_type": "display_data"
    }
   ],
   "source": [
    "# plot the total sales for each country on a bar chart\n",
    "total_sales_chart = country_analysis_other['total_sales'].plot.bar().set_xticklabels(country_analysis_other['country_name'])\n",
    "plt.title('Total Sales per Country')\n",
    "plt.ylabel('Total Sales (in $)')\n",
    "plt.show()"
   ]
  },
  {
   "cell_type": "markdown",
   "metadata": {},
   "source": [
    "Total sales trends mostly mirror our other data so far: USA and our 'Other' category are clear leaders, with Canada coming in third. \n",
    "\n",
    "India, Portugal, the UK, and the Czech Republic, despite it's large average per customer, make up the countries with the least sales.\n",
    "\n",
    "Let's look at 2 more metrics before making a conclusion: the *total customers* and *the average order value* per country."
   ]
  },
  {
   "cell_type": "code",
   "execution_count": 16,
   "metadata": {},
   "outputs": [
    {
     "data": {
      "image/png": "[encoded data removed]",
      "text/plain": [
       "<Figure size 432x288 with 1 Axes>"
      ]
     },
     "metadata": {
      "needs_background": "light"
     },
     "output_type": "display_data"
    }
   ],
   "source": [
    "# plot the total customers for each country on a bar chart\n",
    "num_customers_chart = country_analysis_other['total_customers'].plot.bar().set_xticklabels(country_analysis_other['country_name'])"
   ]
  },
  {
   "cell_type": "code",
   "execution_count": 17,
   "metadata": {},
   "outputs": [
    {
     "data": {
      "image/png": "[encoded data removed]",
      "text/plain": [
       "<Figure size 432x288 with 1 Axes>"
      ]
     },
     "metadata": {
      "needs_background": "light"
     },
     "output_type": "display_data"
    }
   ],
   "source": [
    "# plot the average order value on a bar chart\n",
    "avg_order = country_analysis_other['avg_order_value'].plot.bar().set_xticklabels(country_analysis_other['country_name'])"
   ]
  },
  {
   "cell_type": "markdown",
   "metadata": {},
   "source": [
    "Average orders are pretty similiar across all countries. Interestingly, the countries with the highest average order also seem to have the fewest customers (with the exception of Portugal). Maybe expensive shipping rates make smaller orders too cost-prohibitive for most customers.\n",
    "\n",
    "The USA is our best customer by far, having the most total sales and the most total customers. The next closest is Canada at roughly half the number of customers and sales. \n",
    "\n",
    "The Czech Republic has few customers but the ones that do order tend to be repeat customers. \n",
    "\n",
    "The 'Other' category contains all the countries with only 1 customer. Considering Australia and the UK are other english speaking countries that can be similiar to the American and Canadian audience in music taste, it might be worth spending some advertising money there to see if any growth can be spurred.\n",
    "\n",
    "### Answer 3:\n",
    "We would recommend some advertising spending in the UK, Australia, and maybe the Czech Republic to try new markets. Shipping may be the reason small orders aren't being made, so consider incentives for large orders.\n",
    "\n",
    "Advertising in Canada and the USA would support existing audiences. "
   ]
  },
  {
   "cell_type": "markdown",
   "metadata": {},
   "source": [
    "### Question 4: What percentage of purchases are individual tracks vs whole albums?\n",
    "\n",
    "We want to know if we can order just the popular singles rather than full albums without disrupting most of our customers. \n",
    "\n",
    "To find out, we'll get lists of tracks from the invoices and compare them to the list of tracks on the albums to see how often a whole album is purchased."
   ]
  },
  {
   "cell_type": "code",
   "execution_count": 18,
   "metadata": {},
   "outputs": [
    {
     "name": "stdout",
     "output_type": "stream",
     "text": [
      "    invoice_id  customer_id  full_album\n",
      "0            1           18           1\n",
      "1            2           30           0\n",
      "2            3           40           0\n",
      "3            4           18           0\n",
      "4            5           27           1\n",
      "5            6           31           0\n",
      "6            7           49           0\n",
      "7            8           59           0\n",
      "8            9           18           0\n",
      "9           10           31           0\n",
      "10          11           38           0\n",
      "11          12           42           0\n",
      "12          13           35           0\n",
      "13          14           25           0\n",
      "14          15           44           0\n",
      "15          16            1           0\n",
      "16          17           20           0\n",
      "17          18           24           0\n",
      "18          19           10           0\n",
      "19          20           43           0\n",
      "20          21            9           0\n",
      "21          22           35           0\n",
      "22          23           53           1\n",
      "23          24            4           1\n",
      "24          25           39           0\n"
     ]
    }
   ],
   "source": [
    "# find the purchases that included full albums\n",
    "# helpers:\n",
    "# - invoice_track_list : the list of tracks on an invoice\n",
    "# - album_track_list : the list of tracks on an album\n",
    "# - full_album : 1 indicated a complete album was purchased\n",
    "album_query = \"\"\"\n",
    "WITH \n",
    "invoice_track_list AS\n",
    "(\n",
    "SELECT i.invoice_id, t.name FROM track t\n",
    "LEFT JOIN invoice_line il ON il.track_id=t.track_id\n",
    "LEFT JOIN invoice i ON i.invoice_id=il.invoice_id\n",
    "),\n",
    "album_track_list AS\n",
    "(\n",
    "SELECT a.album_id, t.name FROM track t\n",
    "LEFT JOIN album a ON a.album_id=t.album_id\n",
    "),\n",
    "full_albums AS (\n",
    "SELECT \n",
    "    i.invoice_id, \n",
    "    i.customer_id,\n",
    "    CASE \n",
    "        WHEN \n",
    "        (SELECT name FROM invoice_track_list\n",
    "        WHERE invoice_id = i.invoice_id\n",
    "        EXCEPT\n",
    "        SELECT name FROM album_track_list\n",
    "        WHERE album_id = t.album_id)\n",
    "        IS NULL\n",
    "        AND\n",
    "        (\n",
    "        SELECT name FROM album_track_list\n",
    "        WHERE album_id = t.album_id\n",
    "        EXCEPT\n",
    "        SELECT name FROM invoice_track_list\n",
    "        WHERE invoice_id = i.invoice_id) IS NULL\n",
    "        THEN 1\n",
    "        ELSE 0 \n",
    "    END AS full_album\n",
    "FROM invoice i\n",
    "LEFT JOIN invoice_line il on i.invoice_id=il.invoice_id\n",
    "LEFT JOIN track t on t.track_id=il.track_id\n",
    "LEFT JOIN album a on a.album_id=t.album_id\n",
    "GROUP BY i.invoice_id\n",
    ")\n",
    "\n",
    "SELECT * FROM full_albums\n",
    "\"\"\"\n",
    "# show the first 25 results\n",
    "album_analysis = run_query(album_query)\n",
    "print(album_analysis.head(25))"
   ]
  },
  {
   "cell_type": "markdown",
   "metadata": {},
   "source": [
    "Let's save these queries so we can easily refer to them."
   ]
  },
  {
   "cell_type": "code",
   "execution_count": 20,
   "metadata": {},
   "outputs": [
    {
     "ename": "OperationalError",
     "evalue": "table invoice_track_list already exists",
     "output_type": "error",
     "traceback": [
      "\u001b[0;31m---------------------------------------------------------------------------\u001b[0m",
      "\u001b[0;31mOperationalError\u001b[0m                          Traceback (most recent call last)",
      "\u001b[0;32m<ipython-input-20-396a0536c52a>\u001b[0m in \u001b[0;36m<module>\u001b[0;34m\u001b[0m\n\u001b[1;32m      6\u001b[0m \u001b[0mLEFT\u001b[0m \u001b[0mJOIN\u001b[0m \u001b[0minvoice_line\u001b[0m \u001b[0mil\u001b[0m \u001b[0mON\u001b[0m \u001b[0mil\u001b[0m\u001b[0;34m.\u001b[0m\u001b[0mtrack_id\u001b[0m\u001b[0;34m=\u001b[0m\u001b[0mt\u001b[0m\u001b[0;34m.\u001b[0m\u001b[0mtrack_id\u001b[0m\u001b[0;34m\u001b[0m\u001b[0;34m\u001b[0m\u001b[0m\n\u001b[1;32m      7\u001b[0m \u001b[0mLEFT\u001b[0m \u001b[0mJOIN\u001b[0m \u001b[0minvoice\u001b[0m \u001b[0mi\u001b[0m \u001b[0mON\u001b[0m \u001b[0mi\u001b[0m\u001b[0;34m.\u001b[0m\u001b[0minvoice_id\u001b[0m\u001b[0;34m=\u001b[0m\u001b[0mil\u001b[0m\u001b[0;34m.\u001b[0m\u001b[0minvoice_id\u001b[0m\u001b[0;34m\u001b[0m\u001b[0;34m\u001b[0m\u001b[0m\n\u001b[0;32m----> 8\u001b[0;31m \"\"\")\n\u001b[0m",
      "\u001b[0;32m<ipython-input-4-330f5e7f177b>\u001b[0m in \u001b[0;36mrun_command\u001b[0;34m(c)\u001b[0m\n\u001b[1;32m      4\u001b[0m         \u001b[0;31m#auto commit any changes\u001b[0m\u001b[0;34m\u001b[0m\u001b[0;34m\u001b[0m\u001b[0;34m\u001b[0m\u001b[0m\n\u001b[1;32m      5\u001b[0m         \u001b[0mconn\u001b[0m\u001b[0;34m.\u001b[0m\u001b[0misolation_level\u001b[0m \u001b[0;34m=\u001b[0m \u001b[0;32mNone\u001b[0m\u001b[0;34m\u001b[0m\u001b[0;34m\u001b[0m\u001b[0m\n\u001b[0;32m----> 6\u001b[0;31m         \u001b[0mconn\u001b[0m\u001b[0;34m.\u001b[0m\u001b[0mexecute\u001b[0m\u001b[0;34m(\u001b[0m\u001b[0mc\u001b[0m\u001b[0;34m)\u001b[0m\u001b[0;34m\u001b[0m\u001b[0;34m\u001b[0m\u001b[0m\n\u001b[0m",
      "\u001b[0;31mOperationalError\u001b[0m: table invoice_track_list already exists"
     ]
    }
   ],
   "source": [
    "#will cause an error if run more than once\n",
    "#save a view to use invoice_track_list everywhere\n",
    "run_command(\"\"\"\n",
    "CREATE VIEW invoice_track_list AS\n",
    "SELECT i.invoice_id, t.name FROM track t\n",
    "LEFT JOIN invoice_line il ON il.track_id=t.track_id\n",
    "LEFT JOIN invoice i ON i.invoice_id=il.invoice_id\n",
    "\"\"\")"
   ]
  },
  {
   "cell_type": "code",
   "execution_count": null,
   "metadata": {},
   "outputs": [],
   "source": [
    "#will cause an error if run more than once\n",
    "#save a view to use album_track_list\n",
    "run_command(\"\"\"\n",
    "CREATE VIEW album_track_list AS\n",
    "SELECT a.album_id, t.name FROM track t\n",
    "LEFT JOIN album a ON a.album_id=t.album_id\n",
    "\"\"\")"
   ]
  },
  {
   "cell_type": "code",
   "execution_count": null,
   "metadata": {},
   "outputs": [],
   "source": [
    "#will cause an error if run more than once\n",
    "#save a view to use full_album\n",
    "run_command(\"\"\"\n",
    "CREATE VIEW full_album AS\n",
    "SELECT \n",
    "    i.invoice_id, \n",
    "    i.customer_id,\n",
    "    CASE \n",
    "        WHEN \n",
    "        (SELECT name FROM invoice_track_list\n",
    "        WHERE invoice_id = i.invoice_id\n",
    "        EXCEPT\n",
    "        SELECT name FROM album_track_list\n",
    "        WHERE album_id = t.album_id)\n",
    "        IS NULL\n",
    "        AND\n",
    "        (\n",
    "        SELECT name FROM album_track_list\n",
    "        WHERE album_id = t.album_id\n",
    "        EXCEPT\n",
    "        SELECT name FROM invoice_track_list\n",
    "        WHERE invoice_id = i.invoice_id) IS NULL\n",
    "        THEN 1\n",
    "        ELSE 0 \n",
    "    END AS full_album\n",
    "FROM invoice i\n",
    "LEFT JOIN invoice_line il on i.invoice_id=il.invoice_id\n",
    "LEFT JOIN track t on t.track_id=il.track_id\n",
    "LEFT JOIN album a on a.album_id=t.album_id\n",
    "GROUP BY i.invoice_id\n",
    "\"\"\")"
   ]
  },
  {
   "cell_type": "markdown",
   "metadata": {},
   "source": [
    "Before we continue, let's double check that our results are true. We will visually check the album track list against the invoice track list to make sure we see all the album tracks. "
   ]
  },
  {
   "cell_type": "code",
   "execution_count": 21,
   "metadata": {},
   "outputs": [
    {
     "name": "stdout",
     "output_type": "stream",
     "text": [
      "                       name\n",
      "0   Right Next Door to Hell\n",
      "1             Dust N' Bones\n",
      "2          Live and Let Die\n",
      "3      Don't Cry (Original)\n",
      "4             Perfect Crime\n",
      "5       You Ain't the First\n",
      "6             Bad Obsession\n",
      "7            Back off Bitch\n",
      "8       Double Talkin' Jive\n",
      "9             November Rain\n",
      "10               The Garden\n",
      "11           Garden of Eden\n",
      "12            Don't Damn Me\n",
      "13               Bad Apples\n",
      "14               Dead Horse\n",
      "15                     Coma\n",
      "    album_id                       name\n",
      "0         91    Right Next Door to Hell\n",
      "1         91              Dust N' Bones\n",
      "2         91           Live and Let Die\n",
      "3         91       Don't Cry (Original)\n",
      "4         91              Perfect Crime\n",
      "5         91        You Ain't the First\n",
      "6         91              Bad Obsession\n",
      "7         91             Back off Bitch\n",
      "8         91        Double Talkin' Jive\n",
      "9         91              November Rain\n",
      "10        91                 The Garden\n",
      "11        91             Garden of Eden\n",
      "12        91              Don't Damn Me\n",
      "13        91                 Bad Apples\n",
      "14        91                 Dead Horse\n",
      "15        91                       Coma\n",
      "16        92                  Civil War\n",
      "17        92                   14 Years\n",
      "18        92                 Yesterdays\n",
      "19        92  Knockin' On Heaven's Door\n",
      "20        92            Get In The Ring\n",
      "21        92              Shotgun Blues\n",
      "22        92                  Breakdown\n",
      "23        92             Pretty Tied Up\n",
      "24        92                 Locomotive\n",
      "25        92                    So Fine\n",
      "26        92                  Estranged\n",
      "27        92          You Could Be Mine\n",
      "28        92                  Don't Cry\n",
      "29        92                   My World\n"
     ]
    }
   ],
   "source": [
    "#check if invoice #1 is really a full album purchase\n",
    "test_q = run_query(\"SELECT name FROM invoice_track_list WHERE invoice_id = 1\")\n",
    "print(test_q)\n",
    "test_a = run_query(\"SELECT a.album_id, t.name FROM track t LEFT JOIN album a ON a.album_id=t.album_id WHERE a.title LIKE '%Use Your Illusion I%'\")\n",
    "print(test_a)"
   ]
  },
  {
   "cell_type": "markdown",
   "metadata": {},
   "source": [
    "We can see the query is working correctly because the full album appears on invoice #1.\n",
    "\n",
    "Now that we know our results are correct, let's count the number of full albums."
   ]
  },
  {
   "cell_type": "code",
   "execution_count": 22,
   "metadata": {},
   "outputs": [
    {
     "name": "stdout",
     "output_type": "stream",
     "text": [
      "   total_full_albums  pct_full_albums\n",
      "0                114         0.185668\n"
     ]
    }
   ],
   "source": [
    "test_q = \"\"\"\n",
    "SELECT SUM(fa.full_album) total_full_albums, CAST(SUM(fa.full_album) as float)/CAST(COUNT(*)as float) pct_full_albums FROM full_album fa\n",
    "\"\"\"\n",
    "result = run_query(test_q)\n",
    "print(result)"
   ]
  },
  {
   "cell_type": "markdown",
   "metadata": {},
   "source": [
    "Of the over 600 purchases, 114 contained full_albums, or roughly 18%. \n",
    "\n",
    "### Answer 4:\n",
    "\n",
    "Management can go ahead with buying only popular songs because less than 1/5th of business is geared towards full albums. \n",
    "\n",
    "## Conclusion\n",
    "\n",
    "Using our database we have identified our most popular genres, the best countries for sales, and the album buying behavior of our customers. We also looked at employee performance. \n"
   ]
  },
  {
   "cell_type": "code",
   "execution_count": null,
   "metadata": {},
   "outputs": [],
   "source": []
  }
 ],
 "metadata": {
  "kernelspec": {
   "display_name": "Python 3",
   "language": "python",
   "name": "python3"
  },
  "language_info": {
   "codemirror_mode": {
    "name": "ipython",
    "version": 3
   },
   "file_extension": ".py",
   "mimetype": "text/x-python",
   "name": "python",
   "nbconvert_exporter": "python",
   "pygments_lexer": "ipython3",
   "version": "3.7.6"
  }
 },
 "nbformat": 4,
 "nbformat_minor": 4
}
