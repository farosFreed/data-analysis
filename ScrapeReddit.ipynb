{
  "nbformat": 4,
  "nbformat_minor": 0,
  "metadata": {
    "colab": {
      "provenance": [],
      "authorship_tag": "ABX9TyOzw50Wgr0wbAldv3GUfSAd",
      "include_colab_link": true
    },
    "kernelspec": {
      "name": "python3",
      "display_name": "Python 3"
    },
    "language_info": {
      "name": "python"
    }
  },
  "cells": [
    {
      "cell_type": "markdown",
      "metadata": {
        "id": "view-in-github",
        "colab_type": "text"
      },
      "source": [
        "<a href=\"https://colab.research.google.com/github/farosFreed/data-analysis/blob/master/ScrapeReddit.ipynb\" target=\"_parent\"><img src=\"https://colab.research.google.com/assets/colab-badge.svg\" alt=\"Open In Colab\"/></a>"
      ]
    },
    {
      "cell_type": "code",
      "execution_count": 53,
      "metadata": {
        "colab": {
          "base_uri": "https://localhost:8080/",
          "height": 527
        },
        "id": "WHzb1NhQ-o-d",
        "outputId": "c7e50b73-a1e7-4fde-807c-d2a6185f851a"
      },
      "outputs": [
        {
          "output_type": "stream",
          "name": "stdout",
          "text": [
            "Requirement already satisfied: google-colab-selenium[undetected] in /usr/local/lib/python3.10/dist-packages (1.0.10)\n",
            "Requirement already satisfied: selenium in /usr/local/lib/python3.10/dist-packages (from google-colab-selenium[undetected]) (4.15.2)\n",
            "Requirement already satisfied: undetected-chromedriver in /usr/local/lib/python3.10/dist-packages (from google-colab-selenium[undetected]) (3.5.4)\n",
            "Requirement already satisfied: urllib3[socks]<3,>=1.26 in /usr/local/lib/python3.10/dist-packages (from selenium->google-colab-selenium[undetected]) (2.0.7)\n",
            "Requirement already satisfied: trio~=0.17 in /usr/local/lib/python3.10/dist-packages (from selenium->google-colab-selenium[undetected]) (0.23.1)\n",
            "Requirement already satisfied: trio-websocket~=0.9 in /usr/local/lib/python3.10/dist-packages (from selenium->google-colab-selenium[undetected]) (0.11.1)\n",
            "Requirement already satisfied: certifi>=2021.10.8 in /usr/local/lib/python3.10/dist-packages (from selenium->google-colab-selenium[undetected]) (2023.11.17)\n",
            "Requirement already satisfied: requests in /usr/local/lib/python3.10/dist-packages (from undetected-chromedriver->google-colab-selenium[undetected]) (2.31.0)\n",
            "Requirement already satisfied: websockets in /usr/local/lib/python3.10/dist-packages (from undetected-chromedriver->google-colab-selenium[undetected]) (12.0)\n",
            "Requirement already satisfied: attrs>=20.1.0 in /usr/local/lib/python3.10/dist-packages (from trio~=0.17->selenium->google-colab-selenium[undetected]) (23.1.0)\n",
            "Requirement already satisfied: sortedcontainers in /usr/local/lib/python3.10/dist-packages (from trio~=0.17->selenium->google-colab-selenium[undetected]) (2.4.0)\n",
            "Requirement already satisfied: idna in /usr/local/lib/python3.10/dist-packages (from trio~=0.17->selenium->google-colab-selenium[undetected]) (3.6)\n",
            "Requirement already satisfied: outcome in /usr/local/lib/python3.10/dist-packages (from trio~=0.17->selenium->google-colab-selenium[undetected]) (1.3.0.post0)\n",
            "Requirement already satisfied: sniffio>=1.3.0 in /usr/local/lib/python3.10/dist-packages (from trio~=0.17->selenium->google-colab-selenium[undetected]) (1.3.0)\n",
            "Requirement already satisfied: exceptiongroup>=1.0.0rc9 in /usr/local/lib/python3.10/dist-packages (from trio~=0.17->selenium->google-colab-selenium[undetected]) (1.2.0)\n",
            "Requirement already satisfied: wsproto>=0.14 in /usr/local/lib/python3.10/dist-packages (from trio-websocket~=0.9->selenium->google-colab-selenium[undetected]) (1.2.0)\n",
            "Requirement already satisfied: pysocks!=1.5.7,<2.0,>=1.5.6 in /usr/local/lib/python3.10/dist-packages (from urllib3[socks]<3,>=1.26->selenium->google-colab-selenium[undetected]) (1.7.1)\n",
            "Requirement already satisfied: charset-normalizer<4,>=2 in /usr/local/lib/python3.10/dist-packages (from requests->undetected-chromedriver->google-colab-selenium[undetected]) (3.3.2)\n",
            "Requirement already satisfied: h11<1,>=0.9.0 in /usr/local/lib/python3.10/dist-packages (from wsproto>=0.14->trio-websocket~=0.9->selenium->google-colab-selenium[undetected]) (0.14.0)\n",
            "Requirement already satisfied: numpy in /usr/local/lib/python3.10/dist-packages (1.23.5)\n",
            "Requirement already satisfied: beautifulsoup4 in /usr/local/lib/python3.10/dist-packages (4.11.2)\n",
            "Requirement already satisfied: soupsieve>1.2 in /usr/local/lib/python3.10/dist-packages (from beautifulsoup4) (2.5)\n",
            "Requirement already satisfied: pandas in /usr/local/lib/python3.10/dist-packages (1.5.3)\n",
            "Requirement already satisfied: python-dateutil>=2.8.1 in /usr/local/lib/python3.10/dist-packages (from pandas) (2.8.2)\n",
            "Requirement already satisfied: pytz>=2020.1 in /usr/local/lib/python3.10/dist-packages (from pandas) (2023.3.post1)\n",
            "Requirement already satisfied: numpy>=1.21.0 in /usr/local/lib/python3.10/dist-packages (from pandas) (1.23.5)\n",
            "Requirement already satisfied: six>=1.5 in /usr/local/lib/python3.10/dist-packages (from python-dateutil>=2.8.1->pandas) (1.16.0)\n"
          ]
        },
        {
          "output_type": "display_data",
          "data": {
            "text/plain": [
              "<IPython.core.display.HTML object>"
            ],
            "text/html": [
              "\n",
              "            <div class=\"spinner-container\">\n",
              "                <div class=\"spinner\" id=\"ecaa0c40-f276-43ce-a411-eaa6ca8fc486-circle\"></div>\n",
              "                <div class=\"spinner-text\" id=\"ecaa0c40-f276-43ce-a411-eaa6ca8fc486-text\">Initializing Chromedriver</div>\n",
              "            </div>\n",
              "            <style>\n",
              "                @keyframes spin {\n",
              "                    from { transform: rotate(0deg); }\n",
              "                    to { transform: rotate(360deg); }\n",
              "                }\n",
              "\n",
              "                .spinner-container {\n",
              "                    display: flex;\n",
              "                    align-items: center;\n",
              "                    margin-bottom: 3px;\n",
              "                }\n",
              "\n",
              "                .spinner {\n",
              "                    border: 3px solid rgba(0, 0, 0, 0.1);\n",
              "                    border-left-color: lightblue;\n",
              "                    border-radius: 50%;\n",
              "                    width: 12px;\n",
              "                    height: 12px;\n",
              "                    animation: spin 1s linear infinite;\n",
              "                }\n",
              "\n",
              "                .spinner-text {\n",
              "                    padding-left: 6px;\n",
              "                }\n",
              "            </style>\n",
              "        "
            ]
          },
          "metadata": {}
        },
        {
          "output_type": "display_data",
          "data": {
            "text/plain": [
              "<IPython.core.display.Javascript object>"
            ],
            "application/javascript": [
              "\n",
              "            const element = document.getElementById(\"ecaa0c40-f276-43ce-a411-eaa6ca8fc486-circle\");\n",
              "            element.style.border = \"3px solid limegreen\";\n",
              "            element.style.animation = \"none\";\n",
              "\n",
              "            const text = document.getElementById(\"ecaa0c40-f276-43ce-a411-eaa6ca8fc486-text\");\n",
              "            text.innerText = \"Initialized Chromedriver\";\n",
              "        "
            ]
          },
          "metadata": {}
        }
      ],
      "source": [
        "# dependencies: selenium, numpy, beautifulsoup, pandas\n",
        "!pip install google-colab-selenium[undetected]\n",
        "!pip install numpy\n",
        "!pip install beautifulsoup4\n",
        "!pip install pandas\n",
        "\n",
        "import google_colab_selenium as gs\n",
        "from bs4 import BeautifulSoup\n",
        "import json\n",
        "import pandas as pd\n",
        "\n",
        "driver = gs.Chrome()\n",
        "\n",
        "# url to scrape, ending in 'json'\n",
        "# only works on reddit?\n",
        "jsonurl = 'https://www.reddit.com/r/Millennials/comments/17t9zuw/fellow_millennials_post_your_career_progression.json'\n",
        "\n",
        "json_data = driver.get(jsonurl)\n",
        "html = driver.page_source\n",
        "soup = BeautifulSoup(html, 'html.parser')\n",
        "site_json=json.loads(soup.text)\n",
        "# print(site_json)\n",
        "\n",
        "# cleanup\n",
        "driver.quit()"
      ]
    },
    {
      "cell_type": "code",
      "source": [
        "# post text\n",
        "print(site_json[0]['data']['children'][0]['data']['selftext'])\n",
        "\n",
        "# post comments\n",
        "comments = site_json[1]['data']['children']\n",
        "comments_list = []\n",
        "\n",
        "for comment in comments:\n",
        "  if 'body' in comment['data']:\n",
        "    # print(comment['data']['body'])\n",
        "    comments_list.append(comment['data']['body'])\n",
        "\n",
        "# print(comments_list)\n",
        "# Create a DataFrame with 'comments' as a column\n",
        "df = pd.DataFrame({'comments': comments_list})\n",
        "\n",
        "# Display the DataFrame\n",
        "print(df)"
      ],
      "metadata": {
        "colab": {
          "base_uri": "https://localhost:8080/"
        },
        "id": "sbW004qebkS8",
        "outputId": "f345a080-3074-47cc-abfe-8f4182f27bac"
      },
      "execution_count": 66,
      "outputs": [
        {
          "output_type": "stream",
          "name": "stdout",
          "text": [
            "Age 16: grocery store clerk 5.15/hr\n",
            "\n",
            "17: cashier 6.20/hr \n",
            "\n",
            "20: pharmacy tech 10.50/hr\n",
            "\n",
            "22: pharmacy tech at a different place 14/hr\n",
            "\n",
            "24: 6th grade teacher 28k a year \n",
            "\n",
            "28: 8th grade science teacher 29k a year \n",
            "\n",
            "30-36: Different school/city, 6th-8th grade science teacher 42k a year \n",
            "\n",
            "37-now: Professional development for a science-related nonprofit organization 55k\n",
            "\n",
            "\n",
            "I bet I’d be making way more money by now if I didn’t choose to be a teacher for the majority of my career. Curious about what other millennials make and the career progression that led you to where you are today!\n",
            "                                              comments\n",
            "0    Age 16: tutor $5.75/hr\\n\\nAge 17: McDonald’s c...\n",
            "1    18-22 military police\\n\\n22 liquor store $8 hr...\n",
            "2                                            [deleted]\n",
            "3    Early ages and wages may be a little skewed, b...\n",
            "4           Most everyone makes way more than me hahah\n",
            "..                                                 ...\n",
            "146  15 - auto parts store, $5.15/hr\\n\\n17 - grocer...\n",
            "147  Age 14: McDonalds 7.25\\n\\nAge 18: White Castle...\n",
            "148  18: Army enlisted: 20-30k yr\\n\\n23: Army offic...\n",
            "149  Graduated high school 2002\\nBachelor's degree ...\n",
            "150  16: Cashier 7.25/hr\\n\\n17: McDonald’s kitchen ...\n",
            "\n",
            "[151 rows x 1 columns]\n"
          ]
        }
      ]
    },
    {
      "cell_type": "markdown",
      "source": [],
      "metadata": {
        "id": "CtOoU9U2sd6w"
      }
    }
  ]
}