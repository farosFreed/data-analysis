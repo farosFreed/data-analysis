{
 "cells": [
  {
   "cell_type": "markdown",
   "metadata": {},
   "source": [
    "##  Answering Business Questions using SQL"
   ]
  },
  {
   "cell_type": "markdown",
   "metadata": {},
   "source": [
    "### Question 1: What albums should we order?\n",
    "\n",
    "We need to analysis our sales data by genre and see which genres are popular, then decide to order 3 of these 4 albums:\n",
    "\n",
    "**Artist Name\t\\ Genre**\n",
    "- Regal \\ Hip-Hop\n",
    "- Red Tone \\ Punk\n",
    "- Meteor and the Girls \\ Pop\n",
    "- Slim Jim Bites \\ Blues"
   ]
  },
  {
   "cell_type": "code",
   "execution_count": 1,
   "metadata": {},
   "outputs": [],
   "source": [
    "#load SQL for queries, pandas for dataframes, and matplotlib for charts\n",
    "import sqlite3 as sql\n",
    "import pandas as pd\n",
    "import numpy as np\n",
    "import matplotlib.pyplot as plt\n",
    "#make plots show in notebook\n",
    "%matplotlib inline"
   ]
  },
  {
   "cell_type": "markdown",
   "metadata": {},
   "source": [
    "Let's try a basic query of the database using a simple connection which we'll close as soon as we've run the query."
   ]
  },
  {
   "cell_type": "code",
   "execution_count": 2,
   "metadata": {},
   "outputs": [
    {
     "name": "stdout",
     "output_type": "stream",
     "text": [
      "[('Luís Gonçalves',), ('Leonie Köhler',), ('François Tremblay',), ('Bjørn Hansen',), ('František Wichterlová',), ('Helena Holý',), ('Astrid Gruber',), ('Daan Peeters',), ('Kara Nielsen',), ('Eduardo Martins',)]\n"
     ]
    }
   ],
   "source": [
    "#open connection to database and test a query\n",
    "conn = sql.connect(\"Data/chinook.db\")\n",
    "query = 'SELECT first_name || \" \" || last_name name FROM customer LIMIT 10'\n",
    "result = conn.execute(query).fetchall()\n",
    "conn.close()\n",
    "\n",
    "print(result)"
   ]
  },
  {
   "cell_type": "code",
   "execution_count": 3,
   "metadata": {},
   "outputs": [],
   "source": [
    "#function to query database safely\n",
    "def run_query(q):\n",
    "    #open connection with context manager to ensure db not left open\n",
    "    with sql.connect('Data/chinook.db') as conn:\n",
    "        #return query as a pandas dataframe instead of text output\n",
    "        result = pd.read_sql(q, conn)\n",
    "        return result"
   ]
  },
  {
   "cell_type": "code",
   "execution_count": 4,
   "metadata": {},
   "outputs": [],
   "source": [
    "#function to run commands on database that dont require a query (crate view, etc)\n",
    "def run_command(c):\n",
    "    with sql.connect('Data/chinook.db') as conn:\n",
    "        #auto commit any changes\n",
    "        conn.isolation_level = None\n",
    "        conn.execute(c)"
   ]
  },
  {
   "cell_type": "code",
   "execution_count": 5,
   "metadata": {},
   "outputs": [],
   "source": [
    "#function to show all tables and views in the database currently\n",
    "def show_tables():\n",
    "    query = 'SELECT name, type FROM sqlite_master WHERE type IN (\"table\",\"view\");'\n",
    "    return run_query(query)"
   ]
  },
  {
   "cell_type": "code",
   "execution_count": 6,
   "metadata": {},
   "outputs": [
    {
     "name": "stdout",
     "output_type": "stream",
     "text": [
      "              name   type\n",
      "0            album  table\n",
      "1           artist  table\n",
      "2         customer  table\n",
      "3         employee  table\n",
      "4            genre  table\n",
      "5          invoice  table\n",
      "6     invoice_line  table\n",
      "7       media_type  table\n",
      "8         playlist  table\n",
      "9   playlist_track  table\n",
      "10           track  table\n"
     ]
    }
   ],
   "source": [
    "data = show_tables()\n",
    "print(data)"
   ]
  },
  {
   "cell_type": "code",
   "execution_count": 7,
   "metadata": {},
   "outputs": [
    {
     "name": "stdout",
     "output_type": "stream",
     "text": [
      "                 genre  quantity  percentage\n",
      "0                 Rock      2635    0.553921\n",
      "1                Metal       619    0.130124\n",
      "2   Alternative & Punk       492    0.103427\n",
      "3                Latin       167    0.035106\n",
      "4             R&B/Soul       159    0.033424\n",
      "5                Blues       124    0.026067\n",
      "6                 Jazz       121    0.025436\n",
      "7          Alternative       117    0.024595\n",
      "8       Easy Listening        74    0.015556\n",
      "9                  Pop        63    0.013244\n",
      "10   Electronica/Dance        55    0.011562\n",
      "11           Classical        47    0.009880\n",
      "12              Reggae        35    0.007358\n",
      "13         Hip Hop/Rap        33    0.006937\n",
      "14         Heavy Metal         8    0.001682\n",
      "15          Soundtrack         5    0.001051\n",
      "16            TV Shows         2    0.000420\n",
      "17               Drama         1    0.000210\n",
      "18               World         0    0.000000\n",
      "19     Science Fiction         0    0.000000\n",
      "20    Sci Fi & Fantasy         0    0.000000\n",
      "21       Rock And Roll         0    0.000000\n",
      "22               Opera         0    0.000000\n",
      "23              Comedy         0    0.000000\n",
      "24          Bossa Nova         0    0.000000\n"
     ]
    }
   ],
   "source": [
    "genres_sold = \"\"\"\n",
    "SELECT g.name genre, COUNT(il.quantity) quantity, CAST(COUNT(il.quantity) as float)/CAST((SELECT SUM(quantity) FROM invoice_line) as float) percentage FROM track t \n",
    "LEFT JOIN genre g ON g.genre_id = t.genre_id \n",
    "LEFT JOIN invoice_line il ON il.track_id = t.track_id \n",
    "GROUP BY genre ORDER BY quantity DESC \n",
    "\"\"\"\n",
    "\n",
    "genres_analysis = run_query(genres_sold)\n",
    "print(genres_analysis)"
   ]
  },
  {
   "cell_type": "code",
   "execution_count": 8,
   "metadata": {},
   "outputs": [
    {
     "data": {
      "image/png": "[encoded data removed]",
      "text/plain": [
       "<Figure size 432x288 with 1 Axes>"
      ]
     },
     "metadata": {
      "needs_background": "light"
     },
     "output_type": "display_data"
    }
   ],
   "source": [
    "genre_plot = genres_analysis['quantity'].plot.bar().set_xticklabels(genres_analysis['genre'])"
   ]
  },
  {
   "cell_type": "markdown",
   "metadata": {},
   "source": [
    "It looks like Rock, Metal, and Punk are the best selling genres in the USA. Since we dont have an endless list of albums to order from for this exercise, we'd choose to order:\n",
    "\n",
    "- Red Tone, Punk, first\n",
    "- Slim Jim Bites, Blues, next\n",
    "- Meteor and the Girls, Pop, last\n",
    "\n",
    "The hip-hop album sales aren't doing great comparatively so we won't order that one. "
   ]
  },
  {
   "cell_type": "markdown",
   "metadata": {},
   "source": [
    "### Hows Employee Performance?\n",
    "\n",
    "Write a query that finds the total dollar amount of sales assigned to each sales support agent within the company. Add any extra attributes for that employee that you find are relevant to the analysis."
   ]
  },
  {
   "cell_type": "code",
   "execution_count": 9,
   "metadata": {},
   "outputs": [
    {
     "name": "stdout",
     "output_type": "stream",
     "text": [
      "               name            hire_date        reports_to  total_sales\n",
      "0      Andrew Adams  2016-08-14 00:00:00              None          NaN\n",
      "1      Jane Peacock  2017-04-01 00:00:00     Nancy Edwards      1731.51\n",
      "2    Laura Callahan  2017-03-04 00:00:00  Michael Mitchell          NaN\n",
      "3     Margaret Park  2017-05-03 00:00:00     Nancy Edwards      1584.00\n",
      "4  Michael Mitchell  2016-10-17 00:00:00      Andrew Adams          NaN\n",
      "5     Nancy Edwards  2016-05-01 00:00:00      Andrew Adams          NaN\n",
      "6       Robert King  2017-01-02 00:00:00  Michael Mitchell          NaN\n",
      "7     Steve Johnson  2017-10-17 00:00:00     Nancy Edwards      1393.92\n"
     ]
    }
   ],
   "source": [
    "total_sales_query = \"\"\"\n",
    "SELECT \n",
    "    e1.first_name || \" \" || e1.last_name name, \n",
    "    e1.hire_date, \n",
    "    e2.first_name || \" \" || e2.last_name reports_to, \n",
    "    SUM(i.total) total_sales \n",
    "FROM employee e1\n",
    "LEFT JOIN customer c ON e1.employee_id = c.support_rep_id\n",
    "LEFT JOIN invoice i ON c.customer_id = i.customer_id\n",
    "LEFT JOIN employee e2 ON e1.reports_to=e2.employee_id\n",
    "GROUP BY name\n",
    "\"\"\"\n",
    "\n",
    "sales_analysis = run_query(total_sales_query)\n",
    "print(sales_analysis)"
   ]
  },
  {
   "cell_type": "code",
   "execution_count": 10,
   "metadata": {},
   "outputs": [
    {
     "data": {
      "text/plain": [
       "<matplotlib.collections.PathCollection at 0x11d5764d0>"
      ]
     },
     "execution_count": 10,
     "metadata": {},
     "output_type": "execute_result"
    },
    {
     "data": {
      "image/png": "[encoded data removed]",
      "text/plain": [
       "<Figure size 432x288 with 1 Axes>"
      ]
     },
     "metadata": {
      "needs_background": "light"
     },
     "output_type": "display_data"
    }
   ],
   "source": [
    "plt.scatter(x=sales_analysis['total_sales'],y=sales_analysis['hire_date'])"
   ]
  },
  {
   "cell_type": "markdown",
   "metadata": {},
   "source": [
    "There seems to be a correlation between hire date and sales total. However, we have few data points.\n",
    "\n",
    "### Question 3: What countries do people order from the most?\n",
    "\n",
    "In particular, we will calculate data, for each country, on the:\n",
    "\n",
    "- total number of customers\n",
    "- total value of sales\n",
    "- average value of sales per customer\n",
    "- average order value"
   ]
  },
  {
   "cell_type": "code",
   "execution_count": 32,
   "metadata": {},
   "outputs": [
    {
     "name": "stdout",
     "output_type": "stream",
     "text": [
      "           country  average_sales_per_customer  one_customer\n",
      "0        Argentina                   39.600000             1\n",
      "1        Australia                   81.180000             1\n",
      "2          Austria                   69.300000             1\n",
      "3          Belgium                   60.390000             1\n",
      "4           Brazil                   85.536000             0\n",
      "5           Canada                   66.948750             0\n",
      "6            Chile                   97.020000             1\n",
      "7   Czech Republic                  136.620000             0\n",
      "8          Denmark                   37.620000             1\n",
      "9          Finland                   79.200000             1\n",
      "10          France                   77.814000             0\n",
      "11         Germany                   83.655000             0\n",
      "12         Hungary                   78.210000             1\n",
      "13           India                   91.575000             0\n",
      "14         Ireland                  114.840000             1\n",
      "15           Italy                   50.490000             1\n",
      "16     Netherlands                   65.340000             1\n",
      "17          Norway                   72.270000             1\n",
      "18          Poland                   76.230000             1\n",
      "19        Portugal                   92.565000             0\n",
      "20           Spain                   98.010000             1\n",
      "21          Sweden                   75.240000             1\n",
      "22             USA                   80.037692             0\n",
      "23  United Kingdom                   81.840000             0\n"
     ]
    }
   ],
   "source": [
    "##total_per_customer_table : calc total amount of sales per customer by country\n",
    "##\n",
    "#also add a one_customer column to indicate if the country only has 1 customer\n",
    "total_per_customer_table = \"\"\"\n",
    "WITH total_per_customer AS \n",
    "(SELECT c.country, c.last_name, SUM(i.total) total FROM invoice i\n",
    "LEFT JOIN customer c ON c.customer_id=i.customer_id\n",
    "GROUP BY c.customer_id\n",
    "ORDER BY c.country),\n",
    "avg_sales_by_country AS\n",
    "(SELECT \n",
    "    tpc.country,\n",
    "    AVG(tpc.total) average_sales_per_customer, \n",
    "    CASE\n",
    "        WHEN COUNT(tpc.country) = 1 THEN 1\n",
    "        Else 0\n",
    "    END as one_customer\n",
    "FROM total_per_customer tpc\n",
    "GROUP BY tpc.country)\n",
    "\n",
    "SELECT * FROM avg_sales_by_country\n",
    "\"\"\"\n",
    "country_analysis = run_query(total_per_customer_table)\n",
    "print(country_analysis)"
   ]
  },
  {
   "cell_type": "markdown",
   "metadata": {},
   "source": [
    "Now let's see if we can calculate an 'Other' column consisting of all the countries with only 1 customer. We'll reuse our subqueries from above."
   ]
  },
  {
   "cell_type": "code",
   "execution_count": 36,
   "metadata": {},
   "outputs": [
    {
     "name": "stdout",
     "output_type": "stream",
     "text": [
      "  Countries_Other  total_customers  total_sales  average_sales_per_customer  \\\n",
      "0          Brazil                5       427.68                   85.536000   \n",
      "1          Canada                8       535.59                   66.948750   \n",
      "2  Czech Republic                2       273.24                  136.620000   \n",
      "3          France                5       389.07                   77.814000   \n",
      "4         Germany                4       334.62                   83.655000   \n",
      "5           India                2       183.15                   91.575000   \n",
      "6           Other               15      1094.94                   76.230000   \n",
      "7        Portugal                2       185.13                   92.565000   \n",
      "8             USA               13      1040.49                   80.037692   \n",
      "9  United Kingdom                3       245.52                   81.840000   \n",
      "\n",
      "   avg_order_value  \n",
      "0         7.011148  \n",
      "1         7.047237  \n",
      "2         9.108000  \n",
      "3         7.781400  \n",
      "4         8.161463  \n",
      "5         8.721429  \n",
      "6         7.448571  \n",
      "7         6.383793  \n",
      "8         7.942672  \n",
      "9         8.768571  \n"
     ]
    }
   ],
   "source": [
    "country_query = \"\"\"\n",
    "WITH total_per_customer AS \n",
    "(SELECT c.country, c.last_name, SUM(i.total) total FROM invoice i\n",
    "LEFT JOIN customer c ON c.customer_id=i.customer_id\n",
    "GROUP BY c.customer_id\n",
    "ORDER BY c.country),\n",
    "avg_sales_by_country AS\n",
    "(SELECT \n",
    "    tpc.country,\n",
    "    AVG(tpc.total) average_sales_per_customer, \n",
    "    CASE\n",
    "        WHEN COUNT(tpc.country) = 1 THEN 1\n",
    "        Else 0\n",
    "    END as one_customer\n",
    "FROM total_per_customer tpc\n",
    "GROUP BY tpc.country)\n",
    "\n",
    "\n",
    "SELECT \n",
    "    CASE\n",
    "        WHEN asc.one_customer = 1 THEN 'Other'\n",
    "        Else c.country\n",
    "    END as Countries_Other,\n",
    "    COUNT(DISTINCT(c.customer_id)) total_customers,\n",
    "    SUM(i.total) total_sales, \n",
    "    asc.average_sales_per_customer,\n",
    "    AVG(i.total) avg_order_value\n",
    "FROM invoice i\n",
    "LEFT JOIN customer c ON c.customer_id=i.customer_id\n",
    "LEFT JOIN avg_sales_by_country asc ON asc.country=c.country\n",
    "GROUP BY Countries_Other\n",
    "\"\"\"\n",
    "\n",
    "country_analysis_other = run_query(country_query)\n",
    "print(country_analysis_other)"
   ]
  },
  {
   "cell_type": "markdown",
   "metadata": {},
   "source": [
    "Lastly we will re-order everything so that the 'Other' column is at the bottom. We'll copy our work from above again."
   ]
  },
  {
   "cell_type": "code",
   "execution_count": 43,
   "metadata": {},
   "outputs": [
    {
     "name": "stdout",
     "output_type": "stream",
     "text": [
      "     country_name  total_customers  total_sales  average_sales_per_customer  \\\n",
      "0          Brazil                5       427.68                   85.536000   \n",
      "1          Canada                8       535.59                   66.948750   \n",
      "2  Czech Republic                2       273.24                  136.620000   \n",
      "3          France                5       389.07                   77.814000   \n",
      "4         Germany                4       334.62                   83.655000   \n",
      "5           India                2       183.15                   91.575000   \n",
      "6        Portugal                2       185.13                   92.565000   \n",
      "7             USA               13      1040.49                   80.037692   \n",
      "8  United Kingdom                3       245.52                   81.840000   \n",
      "9           Other               15      1094.94                   76.230000   \n",
      "\n",
      "   avg_order_value  \n",
      "0         7.011148  \n",
      "1         7.047237  \n",
      "2         9.108000  \n",
      "3         7.781400  \n",
      "4         8.161463  \n",
      "5         8.721429  \n",
      "6         6.383793  \n",
      "7         7.942672  \n",
      "8         8.768571  \n",
      "9         7.448571  \n"
     ]
    }
   ],
   "source": [
    "country_query = \"\"\"\n",
    "WITH total_per_customer AS \n",
    "(SELECT c.country, c.last_name, SUM(i.total) total FROM invoice i\n",
    "LEFT JOIN customer c ON c.customer_id=i.customer_id\n",
    "GROUP BY c.customer_id\n",
    "ORDER BY c.country),\n",
    "avg_sales_by_country AS\n",
    "(SELECT \n",
    "    tpc.country,\n",
    "    AVG(tpc.total) average_sales_per_customer, \n",
    "    CASE\n",
    "        WHEN COUNT(tpc.country) = 1 THEN 1\n",
    "        Else 0\n",
    "    END as one_customer\n",
    "FROM total_per_customer tpc\n",
    "GROUP BY tpc.country),\n",
    "combined_view AS\n",
    "(SELECT \n",
    "    CASE\n",
    "        WHEN asc.one_customer = 1 THEN 'Other'\n",
    "        Else c.country\n",
    "    END as country_name,\n",
    "    COUNT(DISTINCT(c.customer_id)) total_customers,\n",
    "    SUM(i.total) total_sales, \n",
    "    asc.average_sales_per_customer,\n",
    "    AVG(i.total) avg_order_value\n",
    "FROM invoice i\n",
    "LEFT JOIN customer c ON c.customer_id=i.customer_id\n",
    "LEFT JOIN avg_sales_by_country asc ON asc.country=c.country\n",
    "GROUP BY country_name)\n",
    "\n",
    "SELECT country_name, total_customers, total_sales, average_sales_per_customer, avg_order_value FROM \n",
    "( \n",
    "SELECT cv.*, \n",
    "    CASE\n",
    "        WHEN cv.country_name = 'Other' THEN 1\n",
    "        ELSE 0\n",
    "    END AS sort\n",
    "FROM combined_view cv\n",
    ")\n",
    "ORDER BY sort ASC\n",
    "\"\"\"\n",
    "\n",
    "country_analysis_other = run_query(country_query)\n",
    "print(country_analysis_other)"
   ]
  },
  {
   "cell_type": "markdown",
   "metadata": {},
   "source": [
    "Test with VIEWs next time to see if they persist between cells. Ex:\n",
    "\n",
    "c = '''\n",
    "CREATE VIEW top_5_names AS\n",
    "     SELECT\n",
    "         first_name,\n",
    "         count(customer_id) count\n",
    "     FROM customer\n",
    "     GROUP by 1\n",
    "     ORDER by 2 DESC\n",
    "     LIMIT 5;\n",
    "'''\n",
    "run_command(c)\n",
    "\n",
    "**Now let's visualize these results!**"
   ]
  },
  {
   "cell_type": "code",
   "execution_count": 77,
   "metadata": {},
   "outputs": [
    {
     "data": {
      "image/png": "[encoded data removed]",
      "text/plain": [
       "<Figure size 432x288 with 1 Axes>"
      ]
     },
     "metadata": {
      "needs_background": "light"
     },
     "output_type": "display_data"
    }
   ],
   "source": [
    "#scatter plot total sales by average sales per customer, grouped by country\n",
    "labels = country_analysis_other['country_name']\n",
    "x_coords = country_analysis_other['total_sales']\n",
    "y_coords = country_analysis_other['average_sales_per_customer']\n",
    " \n",
    "for i, country in enumerate(labels):\n",
    "    x = x_coords[i]\n",
    "    y = y_coords[i]\n",
    "    plt.scatter(x, y)\n",
    "    plt.text(x+1, y+0.5, country, fontsize=8)\n",
    "plt.show()"
   ]
  },
  {
   "cell_type": "code",
   "execution_count": 81,
   "metadata": {},
   "outputs": [
    {
     "data": {
      "image/png": "[encoded data removed]",
      "text/plain": [
       "<Figure size 432x288 with 1 Axes>"
      ]
     },
     "metadata": {
      "needs_background": "light"
     },
     "output_type": "display_data"
    }
   ],
   "source": [
    "total_sales_chart = country_analysis_other['total_sales'].plot.bar().set_xticklabels(country_analysis_other['country_name'])\n"
   ]
  },
  {
   "cell_type": "code",
   "execution_count": 48,
   "metadata": {},
   "outputs": [
    {
     "data": {
      "image/png": "[encoded data removed]",
      "text/plain": [
       "<Figure size 432x288 with 1 Axes>"
      ]
     },
     "metadata": {
      "needs_background": "light"
     },
     "output_type": "display_data"
    }
   ],
   "source": [
    "avg_sales_chart = country_analysis_other['average_sales_per_customer'].plot.bar().set_xticklabels(country_analysis_other['country_name'])"
   ]
  },
  {
   "cell_type": "code",
   "execution_count": 49,
   "metadata": {},
   "outputs": [
    {
     "data": {
      "image/png": "[encoded data removed]",
      "text/plain": [
       "<Figure size 432x288 with 1 Axes>"
      ]
     },
     "metadata": {
      "needs_background": "light"
     },
     "output_type": "display_data"
    }
   ],
   "source": [
    "num_customers_chart = country_analysis_other['total_customers'].plot.bar().set_xticklabels(country_analysis_other['country_name'])"
   ]
  },
  {
   "cell_type": "code",
   "execution_count": 50,
   "metadata": {},
   "outputs": [
    {
     "data": {
      "image/png": "[encoded data removed]",
      "text/plain": [
       "<Figure size 432x288 with 1 Axes>"
      ]
     },
     "metadata": {
      "needs_background": "light"
     },
     "output_type": "display_data"
    }
   ],
   "source": [
    "avg_order = country_analysis_other['avg_order_value'].plot.bar().set_xticklabels(country_analysis_other['country_name'])"
   ]
  },
  {
   "cell_type": "markdown",
   "metadata": {},
   "source": [
    "Average orders are pretty similiar across all countries. However, some countries order more often than others and have more people ordering.\n",
    "\n",
    "The USA is our best customer by far, having the most total sales and the most total customers. The next closest is Canada at roughly half the number of customers and sales. The Czech Republic has few customers but the ones that do order tend to be repeat customers. \n",
    "\n",
    "The 'Other' category contains all the countries with only 1 customer. Considering Australia and the UK are other english speaking countries that can be similiar to the American and Canadian audience in music taste, it might be worth spending some advertising money there to see if any growth can be spurred.\n",
    "\n",
    "In summary, I would suggest some advertising spending in the UK, Australia, and maybe the Czech Republic to try new markets. Advertising in Canada and the USA would support existing audiences. "
   ]
  },
  {
   "cell_type": "markdown",
   "metadata": {},
   "source": [
    "### Question 4: What percentage of purchases are individual tracks vs whole albums?\n",
    "\n",
    "We'll get lists of tracks from the invoices and comprare them to the list of tracks on the albums to see how often a whole album is purchased."
   ]
  },
  {
   "cell_type": "code",
   "execution_count": 129,
   "metadata": {},
   "outputs": [
    {
     "name": "stdout",
     "output_type": "stream",
     "text": [
      "    invoice_id  customer_id  full_album\n",
      "0            1           18           1\n",
      "1            2           30           0\n",
      "2            3           40           0\n",
      "3            4           18           0\n",
      "4            5           27           1\n",
      "5            6           31           0\n",
      "6            7           49           0\n",
      "7            8           59           0\n",
      "8            9           18           0\n",
      "9           10           31           0\n",
      "10          11           38           0\n",
      "11          12           42           0\n",
      "12          13           35           0\n",
      "13          14           25           0\n",
      "14          15           44           0\n",
      "15          16            1           0\n",
      "16          17           20           0\n",
      "17          18           24           0\n",
      "18          19           10           0\n",
      "19          20           43           0\n",
      "20          21            9           0\n",
      "21          22           35           0\n",
      "22          23           53           1\n",
      "23          24            4           1\n",
      "24          25           39           0\n"
     ]
    }
   ],
   "source": [
    "#compare list of track ids from album to list of track ids from invoice\n",
    "#helpers:\n",
    "# - get list of tracks from invoice\n",
    "# - \n",
    "album_query = \"\"\"\n",
    "WITH \n",
    "invoice_track_list AS\n",
    "(\n",
    "SELECT i.invoice_id, t.name FROM track t\n",
    "LEFT JOIN invoice_line il ON il.track_id=t.track_id\n",
    "LEFT JOIN invoice i ON i.invoice_id=il.invoice_id\n",
    "),\n",
    "album_track_list AS\n",
    "(\n",
    "SELECT a.album_id, t.name FROM track t\n",
    "LEFT JOIN album a ON a.album_id=t.album_id\n",
    "),\n",
    "full_albums AS (\n",
    "SELECT \n",
    "    i.invoice_id, \n",
    "    i.customer_id,\n",
    "    CASE \n",
    "        WHEN \n",
    "        (SELECT name FROM invoice_track_list\n",
    "        WHERE invoice_id = i.invoice_id\n",
    "        EXCEPT\n",
    "        SELECT name FROM album_track_list\n",
    "        WHERE album_id = t.album_id)\n",
    "        IS NULL\n",
    "        AND\n",
    "        (\n",
    "        SELECT name FROM album_track_list\n",
    "        WHERE album_id = t.album_id\n",
    "        EXCEPT\n",
    "        SELECT name FROM invoice_track_list\n",
    "        WHERE invoice_id = i.invoice_id) IS NULL\n",
    "        THEN 1\n",
    "        ELSE 0 \n",
    "    END AS full_album\n",
    "FROM invoice i\n",
    "LEFT JOIN invoice_line il on i.invoice_id=il.invoice_id\n",
    "LEFT JOIN track t on t.track_id=il.track_id\n",
    "LEFT JOIN album a on a.album_id=t.album_id\n",
    "GROUP BY i.invoice_id\n",
    ")\n",
    "\n",
    "SELECT * FROM full_albums\n",
    "\"\"\"\n",
    "\n",
    "album_analysis = run_query(album_query)\n",
    "print(album_analysis.head(25))"
   ]
  },
  {
   "cell_type": "code",
   "execution_count": 108,
   "metadata": {},
   "outputs": [],
   "source": [
    "#already run!\n",
    "#save a view to use invoice_track_list everywhere\n",
    "run_command(\"\"\"\n",
    "CREATE VIEW invoice_track_list AS\n",
    "SELECT i.invoice_id, t.name FROM track t\n",
    "LEFT JOIN invoice_line il ON il.track_id=t.track_id\n",
    "LEFT JOIN invoice i ON i.invoice_id=il.invoice_id\n",
    "\"\"\")"
   ]
  },
  {
   "cell_type": "code",
   "execution_count": 130,
   "metadata": {},
   "outputs": [],
   "source": [
    "#already run!\n",
    "#save a view to use album_track_list\n",
    "run_command(\"\"\"\n",
    "CREATE VIEW album_track_list AS\n",
    "SELECT a.album_id, t.name FROM track t\n",
    "LEFT JOIN album a ON a.album_id=t.album_id\n",
    "\"\"\")"
   ]
  },
  {
   "cell_type": "code",
   "execution_count": 131,
   "metadata": {},
   "outputs": [],
   "source": [
    "#already run!\n",
    "#save a view to use full_album\n",
    "run_command(\"\"\"\n",
    "CREATE VIEW full_album AS\n",
    "SELECT \n",
    "    i.invoice_id, \n",
    "    i.customer_id,\n",
    "    CASE \n",
    "        WHEN \n",
    "        (SELECT name FROM invoice_track_list\n",
    "        WHERE invoice_id = i.invoice_id\n",
    "        EXCEPT\n",
    "        SELECT name FROM album_track_list\n",
    "        WHERE album_id = t.album_id)\n",
    "        IS NULL\n",
    "        AND\n",
    "        (\n",
    "        SELECT name FROM album_track_list\n",
    "        WHERE album_id = t.album_id\n",
    "        EXCEPT\n",
    "        SELECT name FROM invoice_track_list\n",
    "        WHERE invoice_id = i.invoice_id) IS NULL\n",
    "        THEN 1\n",
    "        ELSE 0 \n",
    "    END AS full_album\n",
    "FROM invoice i\n",
    "LEFT JOIN invoice_line il on i.invoice_id=il.invoice_id\n",
    "LEFT JOIN track t on t.track_id=il.track_id\n",
    "LEFT JOIN album a on a.album_id=t.album_id\n",
    "GROUP BY i.invoice_id\n",
    "\"\"\")"
   ]
  },
  {
   "cell_type": "code",
   "execution_count": 127,
   "metadata": {},
   "outputs": [
    {
     "name": "stdout",
     "output_type": "stream",
     "text": [
      "                       name\n",
      "0   Right Next Door to Hell\n",
      "1             Dust N' Bones\n",
      "2          Live and Let Die\n",
      "3      Don't Cry (Original)\n",
      "4             Perfect Crime\n",
      "5       You Ain't the First\n",
      "6             Bad Obsession\n",
      "7            Back off Bitch\n",
      "8       Double Talkin' Jive\n",
      "9             November Rain\n",
      "10               The Garden\n",
      "11           Garden of Eden\n",
      "12            Don't Damn Me\n",
      "13               Bad Apples\n",
      "14               Dead Horse\n",
      "15                     Coma\n",
      "    album_id                       name\n",
      "0         91    Right Next Door to Hell\n",
      "1         91              Dust N' Bones\n",
      "2         91           Live and Let Die\n",
      "3         91       Don't Cry (Original)\n",
      "4         91              Perfect Crime\n",
      "5         91        You Ain't the First\n",
      "6         91              Bad Obsession\n",
      "7         91             Back off Bitch\n",
      "8         91        Double Talkin' Jive\n",
      "9         91              November Rain\n",
      "10        91                 The Garden\n",
      "11        91             Garden of Eden\n",
      "12        91              Don't Damn Me\n",
      "13        91                 Bad Apples\n",
      "14        91                 Dead Horse\n",
      "15        91                       Coma\n",
      "16        92                  Civil War\n",
      "17        92                   14 Years\n",
      "18        92                 Yesterdays\n",
      "19        92  Knockin' On Heaven's Door\n",
      "20        92            Get In The Ring\n",
      "21        92              Shotgun Blues\n",
      "22        92                  Breakdown\n",
      "23        92             Pretty Tied Up\n",
      "24        92                 Locomotive\n",
      "25        92                    So Fine\n",
      "26        92                  Estranged\n",
      "27        92          You Could Be Mine\n",
      "28        92                  Don't Cry\n",
      "29        92                   My World\n"
     ]
    }
   ],
   "source": [
    "#check if 5 is really a full album purchase\n",
    "test_q = run_query(\"SELECT name FROM invoice_track_list WHERE invoice_id = 1\")\n",
    "print(test_q)\n",
    "test_a = run_query(\"SELECT a.album_id, t.name FROM track t LEFT JOIN album a ON a.album_id=t.album_id WHERE a.title LIKE '%Use Your Illusion I%'\")\n",
    "print(test_a)"
   ]
  },
  {
   "cell_type": "code",
   "execution_count": 137,
   "metadata": {},
   "outputs": [
    {
     "name": "stdout",
     "output_type": "stream",
     "text": [
      "   total_full_albums  pct_full_albums\n",
      "0                114         0.185668\n"
     ]
    }
   ],
   "source": [
    "test_q = \"\"\"\n",
    "SELECT SUM(fa.full_album) total_full_albums, CAST(SUM(fa.full_album) as float)/CAST(COUNT(*)as float) pct_full_albums FROM full_album fa\n",
    "\"\"\"\n",
    "result = run_query(test_q)\n",
    "print(result)"
   ]
  },
  {
   "cell_type": "markdown",
   "metadata": {},
   "source": [
    "Of the over 600 purchases, 114 contained full_albums, or roughly 18%. \n",
    "\n",
    "### Conclusion\n",
    "\n",
    "Management can go ahead with buying only popular songs because less than 1/5th of business is geared towards full albums. \n",
    "\n",
    "Additional queries to continue analysis:\n",
    "Which artist is used in the most playlists?\n",
    "How many tracks have been purchased vs not purchased?\n",
    "Is the range of tracks in the store reflective of their sales popularity?\n",
    "Do protected vs non-protected media types have an effect on popularity?"
   ]
  }
 ],
 "metadata": {
  "kernelspec": {
   "display_name": "Python 3",
   "language": "python",
   "name": "python3"
  },
  "language_info": {
   "codemirror_mode": {
    "name": "ipython",
    "version": 3
   },
   "file_extension": ".py",
   "mimetype": "text/x-python",
   "name": "python",
   "nbconvert_exporter": "python",
   "pygments_lexer": "ipython3",
   "version": "3.7.6"
  }
 },
 "nbformat": 4,
 "nbformat_minor": 4
}
